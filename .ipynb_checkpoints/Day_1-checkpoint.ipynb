{
 "cells": [
  {
   "cell_type": "raw",
   "id": "d9b4e870-73cc-44c3-8316-263b0f3cedbf",
   "metadata": {},
   "source": [
    "# R is a programming language for statistical computing and graphics\n",
    "# R is a free software\n"
   ]
  },
  {
   "cell_type": "code",
   "execution_count": 1,
   "id": "77828ad9-6430-46c7-8c37-d13a187064dd",
   "metadata": {},
   "outputs": [
    {
     "name": "stdout",
     "output_type": "stream",
     "text": [
      "[1] 100\n"
     ]
    }
   ],
   "source": [
    "# Variables\n",
    "# <- is used to assign values in R\n",
    "# Example : \n",
    "score <- 100 \n",
    "\n",
    "\n",
    "# Print function\n",
    "print(score)"
   ]
  },
  {
   "cell_type": "code",
   "execution_count": 2,
   "id": "afb534fe-a473-4f2a-bdd6-bd92c54e9618",
   "metadata": {},
   "outputs": [],
   "source": [
    "# Data Types in R\n",
    "\n",
    "# Vectors, List, Matrices, Array, Factors, Data Frame"
   ]
  },
  {
   "cell_type": "code",
   "execution_count": 15,
   "id": "31ced346-7cc1-45b2-8443-6d3f6d563502",
   "metadata": {},
   "outputs": [
    {
     "name": "stdout",
     "output_type": "stream",
     "text": [
      "[1] 30\n",
      "[1] -10\n",
      "[1] 0.5\n",
      "[1] 200\n",
      "[1] \"-----------\"\n",
      "[1] TRUE\n",
      "[1] FALSE\n",
      "[1] \"-----------\"\n",
      "[1] FALSE\n"
     ]
    }
   ],
   "source": [
    "# Operators in R\n",
    "\n",
    "#Arithmetic Operators : + - / *\n",
    "val_1 <- 10\n",
    "val_2 <- 20\n",
    "print(val_1+val_2)\n",
    "print(val_1-val_2)\n",
    "print(val_1/val_2)\n",
    "print(val_1*val_2)\n",
    "print(\"-----------\")\n",
    "\n",
    "#Relational Operators: Used to compare or see the relation between values : > < == != >= <=\n",
    "val_3 <- 10\n",
    "print(val_1==val_3)\n",
    "print(val_1!=val_3)\n",
    "print(\"-----------\")\n",
    "\n",
    "#Logical Operators: Used to perform Logical operations : ! & | isTrue\n",
    "\n",
    "val_4 <- TRUE\n",
    "val_5 <- FALSE\n",
    "print(val_4&val_5)\n",
    "\n",
    "\n"
   ]
  },
  {
   "cell_type": "code",
   "execution_count": null,
   "id": "959ee31f-113d-493e-9dcd-b5f5f68e1d14",
   "metadata": {},
   "outputs": [],
   "source": []
  }
 ],
 "metadata": {
  "kernelspec": {
   "display_name": "R",
   "language": "R",
   "name": "ir"
  },
  "language_info": {
   "codemirror_mode": "r",
   "file_extension": ".r",
   "mimetype": "text/x-r-source",
   "name": "R",
   "pygments_lexer": "r",
   "version": "4.4.1"
  }
 },
 "nbformat": 4,
 "nbformat_minor": 5
}
