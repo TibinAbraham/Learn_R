{
 "cells": [
  {
   "cell_type": "code",
   "execution_count": null,
   "id": "2e1207e4-bf85-44ff-bdf3-a4414695eb00",
   "metadata": {},
   "outputs": [],
   "source": [
    "# Decision Making in R\n",
    "- Evaluate a condition and depending on the result some code is executed"
   ]
  },
  {
   "cell_type": "raw",
   "id": "1e808ef4-d5a5-41d6-84e4-cb514ce12165",
   "metadata": {},
   "source": [
    "# If statement\n",
    "\n",
    "if (boolean_expression)\n",
    "    {\n",
    "         //code\n",
    "    }\n",
    "\n",
    "# If - Else Statement\n",
    "\n",
    "if (boolean_expression)\n",
    "    {\n",
    "         //code\n",
    "    }else{\n",
    "    }\n",
    "\n",
    "# Switch Statement\n",
    "\n",
    "switch(expression,case1,case2,...,)\n",
    "No default value in switch\n",
    "\n",
    "\n"
   ]
  },
  {
   "cell_type": "code",
   "execution_count": 3,
   "id": "aa2850ec-5cdd-4732-84fd-9e895f116458",
   "metadata": {},
   "outputs": [
    {
     "name": "stdout",
     "output_type": "stream",
     "text": [
      "[1] \"True\"\n"
     ]
    }
   ],
   "source": [
    "# If statement\n",
    "\n",
    "val_1 = 5\n",
    "\n",
    "if (val_1 >1)  #Statement will only  print if the statement is TRUE\n",
    "    {\n",
    "    print(\"True\")\n",
    "    }"
   ]
  },
  {
   "cell_type": "code",
   "execution_count": 7,
   "id": "c069dbc0-0cb0-4fb7-a2d6-0e453961c9f7",
   "metadata": {},
   "outputs": [
    {
     "name": "stdout",
     "output_type": "stream",
     "text": [
      "[1] \"True\"\n"
     ]
    }
   ],
   "source": [
    "# If - Else Statement\n",
    "\n",
    "val_1 = 5\n",
    "\n",
    "if (val_1==5)  \n",
    "    {\n",
    "    print(\"True\")\n",
    "    }else{\n",
    "    print(\"False\")\n",
    "    }\n",
    "\n",
    "\n"
   ]
  },
  {
   "cell_type": "code",
   "execution_count": 8,
   "id": "d79f415c-fe7d-4270-a2da-e952f59c612b",
   "metadata": {},
   "outputs": [
    {
     "name": "stdout",
     "output_type": "stream",
     "text": [
      "[1] \"Two\"\n"
     ]
    }
   ],
   "source": [
    "# Switch Statement\n",
    "\n",
    "x <- 2\n",
    "\n",
    "result <- switch(x,\"1\"=\"One\",\"2\"=\"Two\",\"3\"=\"Three\")\n",
    "print(result)"
   ]
  },
  {
   "cell_type": "code",
   "execution_count": null,
   "id": "e25f38a7-3c80-4fb2-a1bd-ea629f82f628",
   "metadata": {},
   "outputs": [],
   "source": []
  }
 ],
 "metadata": {
  "kernelspec": {
   "display_name": "R",
   "language": "R",
   "name": "ir"
  },
  "language_info": {
   "codemirror_mode": "r",
   "file_extension": ".r",
   "mimetype": "text/x-r-source",
   "name": "R",
   "pygments_lexer": "r",
   "version": "4.4.1"
  }
 },
 "nbformat": 4,
 "nbformat_minor": 5
}
