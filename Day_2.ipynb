{
 "cells": [
  {
   "cell_type": "code",
   "execution_count": null,
   "id": "2e1207e4-bf85-44ff-bdf3-a4414695eb00",
   "metadata": {},
   "outputs": [],
   "source": [
    "# Decision Making in R\n",
    "- Evaluate a condition and depending on the result some code is executed"
   ]
  },
  {
   "cell_type": "code",
   "execution_count": null,
   "id": "2a6b368f-9952-469a-851e-adcd9f7486c1",
   "metadata": {},
   "outputs": [],
   "source": [
    "# If statement\n",
    "\n",
    "# If - Else Statement\n",
    "\n",
    "# Switch Statement\n",
    "\n"
   ]
  }
 ],
 "metadata": {
  "kernelspec": {
   "display_name": "R",
   "language": "R",
   "name": "ir"
  },
  "language_info": {
   "codemirror_mode": "r",
   "file_extension": ".r",
   "mimetype": "text/x-r-source",
   "name": "R",
   "pygments_lexer": "r",
   "version": "4.4.1"
  }
 },
 "nbformat": 4,
 "nbformat_minor": 5
}
